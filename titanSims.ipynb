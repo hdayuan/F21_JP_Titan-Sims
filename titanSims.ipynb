{
 "cells": [
  {
   "cell_type": "code",
   "execution_count": 1,
   "id": "af2474e6",
   "metadata": {},
   "outputs": [
    {
     "name": "stdout",
     "output_type": "stream",
     "text": [
      "8.215180272431718 Saturn radii\n"
     ]
    }
   ],
   "source": [
    "import rebound\n",
    "import reboundx\n",
    "import numpy as np\n",
    "import matplotlib.pyplot as plt\n",
    "\n",
    "\"\"\" TO-DO:\n",
    "- Plot expected precession period\n",
    "\n",
    "QUESTIONS:\n",
    "- Why not just start at 8.214??\n",
    "- migration timescale calculation\n",
    "- da/dt at aRes different for different a0?\n",
    "\"\"\"\n",
    "\n",
    "G = 6.67e-11 # G in SI units ****\n",
    "mSun = 1.9891e30 # mass of sun in kg ****\n",
    "AU_TO_M = 1.496e+11 # meters in one AU\n",
    "\n",
    "# Check accuracy of all the following constants\n",
    "mSat = 0.0002857 # mass of saturn in solar masses\n",
    "aSat = 9.5549 # semi-major axis of Saturn's orbit in AU\n",
    "eSat = 0.0565 # eccentricity of Saturn\n",
    "rSat = 0.00038926024 # radius of Saturn in AU\n",
    "j2Sat = 16298e-6 # J2 of Saturn (Murray and Dermott p 531) \n",
    "curr_aTitan = 0.008167696467 # modern-day semi-major axis of titan in AU\n",
    "mTitan = 0.0000000676319759 # mass of titan in solar masses\n",
    "eTitan = 0.001 # eccentricity of Titan's orbit ***** Modify as needed *****\n",
    "iTitan = 0.34854 * np.pi / 180 # inclination of titan's orbit in radians\n",
    "\n",
    "ini_aTitan = 8.214 * rSat  # starting semi-major axis of Titan\n",
    "\n",
    "# Calculate the expected semi-major axis of Titan at which evection resonance should occur given i = e = 0\n",
    "\n",
    "exp_aRes = np.power((9/4)*j2Sat*j2Sat*mSat*(aSat/rSat)**3, (1/7)) # in units of saturn radii\n",
    "\n",
    "print(str(exp_aRes) + \" Saturn radii\")\n"
   ]
  },
  {
   "cell_type": "code",
   "execution_count": 2,
   "id": "9a55d516",
   "metadata": {},
   "outputs": [
    {
     "name": "stdout",
     "output_type": "stream",
     "text": [
      "29.525882500032164 years\n"
     ]
    }
   ],
   "source": [
    "# Calculate expected precession period for initial semi-major axis of Titan\n",
    "# given i = e = 0 (eqn (3) Spalding_et_al_2016.pdf)\n",
    "# using a, semi-major axis, as orbital radius\n",
    "\n",
    "aTitan = ini_aTitan\n",
    "mean_motion_Titan = np.sqrt(G*mSat*mSun / ((aTitan*AU_TO_M)**3)) # mean motion of titan in radians per second\n",
    "\n",
    "# convert to radians per year\n",
    "mean_motion_year = mean_motion_Titan * 3600*24*365.25\n",
    "\n",
    "# mean_motion_year seems accurate assuming correct units\n",
    "# I checked with sim.particles[1].n and it is off by less than .2\n",
    "\n",
    "exp_prec_freq = (3/2)*mean_motion_year*j2Sat*(rSat**2)/(aTitan**2) # in radians per year\n",
    "exp_prec_T = 2*np.pi/exp_prec_freq # in years per revolution\n",
    "print(str(exp_prec_T) + \" years\")\n"
   ]
  },
  {
   "cell_type": "code",
   "execution_count": 3,
   "id": "488ff0ab",
   "metadata": {},
   "outputs": [
    {
     "name": "stdout",
     "output_type": "stream",
     "text": [
      "0.010700711659839537 years\n"
     ]
    }
   ],
   "source": [
    "# calculate period of Titan in years at evection resonance distance ** Check accuracy **\n",
    "mm = np.sqrt(G*mSat*mSun / ((exp_aRes*rSat*AU_TO_M)**3))  # in rad / sec\n",
    "tauTitan = 2*np.pi*(1/mm)/(3600*24*365.25) # in years\n",
    "print(str(tauTitan)+\" years\")\n"
   ]
  },
  {
   "cell_type": "code",
   "execution_count": 4,
   "id": "98c0912a",
   "metadata": {},
   "outputs": [
    {
     "name": "stdout",
     "output_type": "stream",
     "text": [
      "810766627.6731131 years\n"
     ]
    }
   ],
   "source": [
    "# Calculate timescale for exponential migration of Titan's semi-major axis\n",
    "\n",
    "ageSat = 4.503e9 # age of saturn in yrs\n",
    "timescale = 3 * ((exp_aRes*rSat/curr_aTitan)**3) * ageSat\n",
    "\n",
    "print(str(timescale) + \" years\")"
   ]
  },
  {
   "cell_type": "code",
   "execution_count": 10,
   "id": "4b634a11",
   "metadata": {},
   "outputs": [
    {
     "ename": "ValueError",
     "evalue": "Orbital elements for particle[0] not implemented unless primary is provided",
     "output_type": "error",
     "traceback": [
      "\u001b[0;31m---------------------------------------------------------------------------\u001b[0m",
      "\u001b[0;31mValueError\u001b[0m                                Traceback (most recent call last)",
      "\u001b[0;32m<ipython-input-10-3e370b1ad0b3>\u001b[0m in \u001b[0;36m<module>\u001b[0;34m\u001b[0m\n\u001b[1;32m     53\u001b[0m     \u001b[0ma_array\u001b[0m\u001b[0;34m[\u001b[0m\u001b[0mi\u001b[0m\u001b[0;34m]\u001b[0m \u001b[0;34m=\u001b[0m \u001b[0msim\u001b[0m\u001b[0;34m.\u001b[0m\u001b[0mparticles\u001b[0m\u001b[0;34m[\u001b[0m\u001b[0;36m1\u001b[0m\u001b[0;34m]\u001b[0m\u001b[0;34m.\u001b[0m\u001b[0ma\u001b[0m \u001b[0;34m/\u001b[0m \u001b[0mrSat\u001b[0m\u001b[0;34m\u001b[0m\u001b[0;34m\u001b[0m\u001b[0m\n\u001b[1;32m     54\u001b[0m     \u001b[0me_array\u001b[0m\u001b[0;34m[\u001b[0m\u001b[0mi\u001b[0m\u001b[0;34m]\u001b[0m \u001b[0;34m=\u001b[0m \u001b[0msim\u001b[0m\u001b[0;34m.\u001b[0m\u001b[0mparticles\u001b[0m\u001b[0;34m[\u001b[0m\u001b[0;36m1\u001b[0m\u001b[0;34m]\u001b[0m\u001b[0;34m.\u001b[0m\u001b[0me\u001b[0m\u001b[0;34m\u001b[0m\u001b[0;34m\u001b[0m\u001b[0m\n\u001b[0;32m---> 55\u001b[0;31m     \u001b[0mpomega_array\u001b[0m\u001b[0;34m[\u001b[0m\u001b[0mi\u001b[0m\u001b[0;34m]\u001b[0m \u001b[0;34m=\u001b[0m \u001b[0msim\u001b[0m\u001b[0;34m.\u001b[0m\u001b[0mparticles\u001b[0m\u001b[0;34m[\u001b[0m\u001b[0;36m1\u001b[0m\u001b[0;34m]\u001b[0m\u001b[0;34m.\u001b[0m\u001b[0mpomega\u001b[0m \u001b[0;34m-\u001b[0m \u001b[0msim\u001b[0m\u001b[0;34m.\u001b[0m\u001b[0mparticles\u001b[0m\u001b[0;34m[\u001b[0m\u001b[0;36m0\u001b[0m\u001b[0;34m]\u001b[0m\u001b[0;34m.\u001b[0m\u001b[0ml\u001b[0m\u001b[0;34m\u001b[0m\u001b[0;34m\u001b[0m\u001b[0m\n\u001b[0m\u001b[1;32m     56\u001b[0m     \u001b[0mtime_array\u001b[0m\u001b[0;34m[\u001b[0m\u001b[0mi\u001b[0m\u001b[0;34m]\u001b[0m \u001b[0;34m=\u001b[0m \u001b[0msim\u001b[0m\u001b[0;34m.\u001b[0m\u001b[0mt\u001b[0m\u001b[0;34m\u001b[0m\u001b[0;34m\u001b[0m\u001b[0m\n\u001b[1;32m     57\u001b[0m \u001b[0;34m\u001b[0m\u001b[0m\n",
      "\u001b[0;32m~/opt/anaconda3/lib/python3.8/site-packages/rebound/particle.py\u001b[0m in \u001b[0;36ml\u001b[0;34m(self)\u001b[0m\n\u001b[1;32m    800\u001b[0m     \u001b[0;34m@\u001b[0m\u001b[0mproperty\u001b[0m\u001b[0;34m\u001b[0m\u001b[0;34m\u001b[0m\u001b[0m\n\u001b[1;32m    801\u001b[0m     \u001b[0;32mdef\u001b[0m \u001b[0ml\u001b[0m\u001b[0;34m(\u001b[0m\u001b[0mself\u001b[0m\u001b[0;34m)\u001b[0m\u001b[0;34m:\u001b[0m\u001b[0;34m\u001b[0m\u001b[0;34m\u001b[0m\u001b[0m\n\u001b[0;32m--> 802\u001b[0;31m         \u001b[0;32mreturn\u001b[0m \u001b[0mself\u001b[0m\u001b[0;34m.\u001b[0m\u001b[0mcalculate_orbit\u001b[0m\u001b[0;34m(\u001b[0m\u001b[0;34m)\u001b[0m\u001b[0;34m.\u001b[0m\u001b[0ml\u001b[0m\u001b[0;34m\u001b[0m\u001b[0;34m\u001b[0m\u001b[0m\n\u001b[0m\u001b[1;32m    803\u001b[0m     \u001b[0;34m@\u001b[0m\u001b[0ml\u001b[0m\u001b[0;34m.\u001b[0m\u001b[0msetter\u001b[0m\u001b[0;34m\u001b[0m\u001b[0;34m\u001b[0m\u001b[0m\n\u001b[1;32m    804\u001b[0m     \u001b[0;32mdef\u001b[0m \u001b[0ml\u001b[0m\u001b[0;34m(\u001b[0m\u001b[0mself\u001b[0m\u001b[0;34m,\u001b[0m\u001b[0mvalue\u001b[0m\u001b[0;34m)\u001b[0m\u001b[0;34m:\u001b[0m\u001b[0;34m\u001b[0m\u001b[0;34m\u001b[0m\u001b[0m\n",
      "\u001b[0;32m~/opt/anaconda3/lib/python3.8/site-packages/rebound/particle.py\u001b[0m in \u001b[0;36mcalculate_orbit\u001b[0;34m(self, primary, G)\u001b[0m\n\u001b[1;32m    438\u001b[0m             \u001b[0mindex\u001b[0m \u001b[0;34m=\u001b[0m \u001b[0mclibrebound\u001b[0m\u001b[0;34m.\u001b[0m\u001b[0mreb_get_particle_index\u001b[0m\u001b[0;34m(\u001b[0m\u001b[0mbyref\u001b[0m\u001b[0;34m(\u001b[0m\u001b[0mself\u001b[0m\u001b[0;34m)\u001b[0m\u001b[0;34m)\u001b[0m \u001b[0;31m# first check this isn't particles[0]\u001b[0m\u001b[0;34m\u001b[0m\u001b[0;34m\u001b[0m\u001b[0m\n\u001b[1;32m    439\u001b[0m             \u001b[0;32mif\u001b[0m \u001b[0mindex\u001b[0m \u001b[0;34m==\u001b[0m \u001b[0;36m0\u001b[0m \u001b[0;32mand\u001b[0m \u001b[0mprimary\u001b[0m \u001b[0;32mis\u001b[0m \u001b[0;32mNone\u001b[0m\u001b[0;34m:\u001b[0m\u001b[0;34m\u001b[0m\u001b[0;34m\u001b[0m\u001b[0m\n\u001b[0;32m--> 440\u001b[0;31m                 \u001b[0;32mraise\u001b[0m \u001b[0mValueError\u001b[0m\u001b[0;34m(\u001b[0m\u001b[0;34m\"Orbital elements for particle[0] not implemented unless primary is provided\"\u001b[0m\u001b[0;34m)\u001b[0m\u001b[0;34m\u001b[0m\u001b[0;34m\u001b[0m\u001b[0m\n\u001b[0m\u001b[1;32m    441\u001b[0m \u001b[0;34m\u001b[0m\u001b[0m\n\u001b[1;32m    442\u001b[0m             \u001b[0;32mif\u001b[0m \u001b[0mprimary\u001b[0m \u001b[0;32mis\u001b[0m \u001b[0;32mNone\u001b[0m\u001b[0;34m:\u001b[0m    \u001b[0;31m# Use default, i.e., Jacobi coordinates\u001b[0m\u001b[0;34m\u001b[0m\u001b[0;34m\u001b[0m\u001b[0m\n",
      "\u001b[0;31mValueError\u001b[0m: Orbital elements for particle[0] not implemented unless primary is provided"
     ]
    }
   ],
   "source": [
    "import time\n",
    "\n",
    "start_time = time.time()\n",
    "\n",
    "numSamples = 600\n",
    "totalSimTime = 200000\n",
    "plotDT = totalSimTime/numSamples\n",
    "\n",
    "# Initialize rebound simulation\n",
    "sim = rebound.Simulation()\n",
    "sim.units = ('AU', 'yr', 'Msun')\n",
    "\n",
    "e_array = [0] * numSamples\n",
    "a_array = [0] * numSamples\n",
    "pomega_array = [0] * numSamples\n",
    "time_array = [0] * numSamples\n",
    "\n",
    "# add Saturn\n",
    "sim.add(m=mSat)\n",
    "\n",
    "# add Titan\n",
    "sim.add(m=mTitan, a=ini_aTitan, e=eTitan)\n",
    "\n",
    "# add sun (with semi-major axis and eccentricity of Saturn)\n",
    "sim.add(m=1, a=aSat, e=eSat)\n",
    "\n",
    "rebx = reboundx.Extras(sim) # Initiate reboundx\n",
    "\n",
    "# Add migration force for Titan's outward migration (a = a0e^(t/tau)\n",
    "mof = rebx.load_force(\"modify_orbits_forces\")\n",
    "rebx.add_force(mof)\n",
    "sim.particles[1].params[\"tau_a\"] = timescale\n",
    "\n",
    "# Add the exponential migration force\n",
    "#mod_effect = rebx.load_force(\"exponential_migration\") \n",
    "#rebx.add_force(mod_effect)\n",
    "#sim.particles[1].params[\"em_aini\"] = ini_aTitan  # parameter 1: Titan's initial semimajor axis\n",
    "#sim.particles[1].params[\"em_afin\"] = curr_aTitan  # parameter 2: Titan's final semimajor axis\n",
    "#sim.particles[1].params[\"em_tau_a\"] = timescale  # parameter 3: the migration e-folding time\n",
    "\n",
    "# add Saturn's J2\n",
    "gh = rebx.load_force(\"gravitational_harmonics\")\n",
    "rebx.add_force(gh)\n",
    "sim.particles[0].params[\"J2\"] = j2Sat\n",
    "sim.particles[0].params[\"R_eq\"] = rSat\n",
    "\n",
    "sim.integrator = \"whfast\"\n",
    "sim.dt = (1/20) * tauTitan # time step = 1/20 * shortest orbital period\n",
    "\n",
    "for i in range(0,numSamples):\n",
    "    sim.integrate(i * plotDT)\n",
    "    sim.move_to_hel()\n",
    "    a_array[i] = sim.particles[1].a / rSat\n",
    "    e_array[i] = sim.particles[1].e\n",
    "    pomega_array[i] = sim.particles[1].pomega - sim.particles[2].l\n",
    "    time_array[i] = sim.t\n",
    "\n",
    "# check if Titan collided with Saturn\n",
    "# check if Titan passed Roche limit\n",
    "\n",
    "fig, axs = plt.subplots(3)\n",
    "\n",
    "fig.set_size_inches(15, 30)\n",
    "\n",
    "axs[0].plot(time_array,a_array)\n",
    "axs[0].set_xlabel('Time (yrs)')\n",
    "axs[0].set_ylabel('Titan\\'s semimajor axis (Saturn Radii)')\n",
    "\n",
    "axs[1].plot(time_array,e_array)\n",
    "axs[1].set_xlabel('Time (yrs)')\n",
    "axs[1].set_ylabel('Titan\\'s eccentricity')\n",
    "\n",
    "axs[2].plot(time_array,pomega_array)\n",
    "axs[2].set_xlabel('Time (yrs)')\n",
    "axs[2].set_ylabel('Titan\\'s longitude of pericenter')\n",
    "\n",
    "print(str(time.time() - start_time) + \" seconds\")\n",
    "\n",
    "\n",
    "# exp_pomega = [0] * numSamples\n",
    "# for i in range(numSamples):\n",
    "#     exp_pomega[i] = exp_prec_freq * time_array[i] + pomega_array[0]\n",
    "    \n",
    "# axs[3].plot(time_array, exp_pomega)\n",
    "# axs[3].set_xlabel('Time (yrs)')\n",
    "# axs[3].set_ylabel('Titan\\'s expected longitude of pericenter')\n",
    "\n",
    "# fig = rebound.OrbitPlot(sim, unitlabel=\"[AU]\", color=False, periastron=True)\n",
    "\n",
    "# ax = plt.subplot(111)\n",
    "# ax.set_xlim([-.05,.05])\n",
    "# ax.set_ylim([-.05,.05])\n",
    "\n",
    "# plt.show()"
   ]
  },
  {
   "cell_type": "code",
   "execution_count": null,
   "id": "5ae60ad6",
   "metadata": {},
   "outputs": [],
   "source": []
  }
 ],
 "metadata": {
  "kernelspec": {
   "display_name": "Python 3",
   "language": "python",
   "name": "python3"
  },
  "language_info": {
   "codemirror_mode": {
    "name": "ipython",
    "version": 3
   },
   "file_extension": ".py",
   "mimetype": "text/x-python",
   "name": "python",
   "nbconvert_exporter": "python",
   "pygments_lexer": "ipython3",
   "version": "3.8.8"
  }
 },
 "nbformat": 4,
 "nbformat_minor": 5
}
