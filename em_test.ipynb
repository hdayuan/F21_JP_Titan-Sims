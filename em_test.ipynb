{
 "cells": [
  {
   "cell_type": "code",
   "execution_count": 1,
   "id": "434c0889",
   "metadata": {},
   "outputs": [
    {
     "data": {
      "text/plain": [
       "Text(0, 0.5, 'Neptune semimajor axis (AU)')"
      ]
     },
     "execution_count": 1,
     "metadata": {},
     "output_type": "execute_result"
    },
    {
     "data": {
      "image/png": "[encoded data removed]",
      "text/plain": [
       "<Figure size 432x288 with 1 Axes>"
      ]
     },
     "metadata": {
      "needs_background": "light"
     },
     "output_type": "display_data"
    }
   ],
   "source": [
    "# Example for exponential_migration reboundx force\n",
    "# By: Mohamad Ali-Dib\n",
    "#     mma9132@nyu.edu\n",
    "#     See https://arxiv.org/abs/2104.04271\n",
    "import rebound\n",
    "import reboundx\n",
    "import numpy as np\n",
    "import matplotlib.pyplot as plt\n",
    "\n",
    "neptune_a_array = []\n",
    "time_array = []\n",
    "\n",
    "sim = rebound.Simulation()  # Initiate rebound simulation\n",
    "sim.units = ('yr', 'AU', 'Msun')\n",
    "sim.add(m=1)\n",
    "sim.add(m=5.1e-5, a=24., e=0.01, hash=\"neptune\") # Add Neptune (pre-migration) at 24 AU\n",
    "sim.move_to_com()\n",
    "\n",
    "rebx = reboundx.Extras(sim) # Initiate reboundx\n",
    "mod_effect = rebx.load_force(\"exponential_migration\")  # Add the migration force\n",
    "rebx.add_force(mod_effect)  # Add the migration force\n",
    " \n",
    "sim.particles[1].params[\"em_aini\"] = 24.  # parameter 1: Neptune's initial semimajor axis\n",
    "sim.particles[1].params[\"em_afin\"] = 30.  # parameter 2: Neptune's final semimajor axis\n",
    "sim.particles[1].params[\"em_tau_a\"] = 1e3  # parameter 3: the migration e-folding time\n",
    "\n",
    "for time in np.linspace(0, 1e4,100):   # Integrate the system for 1e4 yr\n",
    "    sim.integrate(time)\n",
    "    neptune_a_array.append(sim.particles[1].a)\n",
    "    time_array.append(sim.t)\n",
    "\n",
    "plt.plot(time_array,neptune_a_array ) # Plot\n",
    "plt.xlabel('Time (yrs)')\n",
    "plt.ylabel('Neptune semimajor axis (AU)')"
   ]
  },
  {
   "cell_type": "code",
   "execution_count": null,
   "id": "a682952a",
   "metadata": {},
   "outputs": [],
   "source": []
  }
 ],
 "metadata": {
  "kernelspec": {
   "display_name": "Python 3",
   "language": "python",
   "name": "python3"
  },
  "language_info": {
   "codemirror_mode": {
    "name": "ipython",
    "version": 3
   },
   "file_extension": ".py",
   "mimetype": "text/x-python",
   "name": "python",
   "nbconvert_exporter": "python",
   "pygments_lexer": "ipython3",
   "version": "3.8.8"
  }
 },
 "nbformat": 4,
 "nbformat_minor": 5
}
