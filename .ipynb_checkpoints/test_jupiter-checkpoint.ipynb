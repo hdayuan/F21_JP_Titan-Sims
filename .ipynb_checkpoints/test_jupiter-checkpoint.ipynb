{
 "cells": [
  {
   "cell_type": "code",
   "execution_count": 23,
   "id": "8b8be2a0",
   "metadata": {},
   "outputs": [
    {
     "ename": "KeyboardInterrupt",
     "evalue": "",
     "output_type": "error",
     "traceback": [
      "\u001b[0;31m---------------------------------------------------------------------------\u001b[0m",
      "\u001b[0;31mKeyboardInterrupt\u001b[0m                         Traceback (most recent call last)",
      "\u001b[0;32m<ipython-input-23-abad7820c2e5>\u001b[0m in \u001b[0;36m<module>\u001b[0;34m\u001b[0m\n\u001b[1;32m     42\u001b[0m \u001b[0mt_array\u001b[0m \u001b[0;34m=\u001b[0m \u001b[0;34m[\u001b[0m\u001b[0;36m0\u001b[0m\u001b[0;34m]\u001b[0m \u001b[0;34m*\u001b[0m \u001b[0mnumSamples\u001b[0m\u001b[0;34m\u001b[0m\u001b[0;34m\u001b[0m\u001b[0m\n\u001b[1;32m     43\u001b[0m \u001b[0;32mfor\u001b[0m \u001b[0mi\u001b[0m \u001b[0;32min\u001b[0m \u001b[0mrange\u001b[0m\u001b[0;34m(\u001b[0m\u001b[0mnumSamples\u001b[0m\u001b[0;34m)\u001b[0m\u001b[0;34m:\u001b[0m\u001b[0;34m\u001b[0m\u001b[0;34m\u001b[0m\u001b[0m\n\u001b[0;32m---> 44\u001b[0;31m     \u001b[0msim\u001b[0m\u001b[0;34m.\u001b[0m\u001b[0mintegrate\u001b[0m\u001b[0;34m(\u001b[0m\u001b[0;36m1.\u001b[0m\u001b[0;34m*\u001b[0m\u001b[0mi\u001b[0m\u001b[0;34m)\u001b[0m\u001b[0;34m\u001b[0m\u001b[0;34m\u001b[0m\u001b[0m\n\u001b[0m\u001b[1;32m     45\u001b[0m     \u001b[0msim\u001b[0m\u001b[0;34m.\u001b[0m\u001b[0mmove_to_com\u001b[0m\u001b[0;34m(\u001b[0m\u001b[0;34m)\u001b[0m\u001b[0;34m\u001b[0m\u001b[0;34m\u001b[0m\u001b[0m\n\u001b[1;32m     46\u001b[0m     \u001b[0meS_array\u001b[0m\u001b[0;34m[\u001b[0m\u001b[0mi\u001b[0m\u001b[0;34m]\u001b[0m \u001b[0;34m=\u001b[0m \u001b[0msim\u001b[0m\u001b[0;34m.\u001b[0m\u001b[0mparticles\u001b[0m\u001b[0;34m[\u001b[0m\u001b[0;34m'Saturn'\u001b[0m\u001b[0;34m]\u001b[0m\u001b[0;34m.\u001b[0m\u001b[0mcalculate_orbit\u001b[0m\u001b[0;34m(\u001b[0m\u001b[0mprimary\u001b[0m\u001b[0;34m=\u001b[0m\u001b[0msim\u001b[0m\u001b[0;34m.\u001b[0m\u001b[0mparticles\u001b[0m\u001b[0;34m[\u001b[0m\u001b[0;34m'Sun'\u001b[0m\u001b[0;34m]\u001b[0m\u001b[0;34m)\u001b[0m\u001b[0;34m.\u001b[0m\u001b[0me\u001b[0m\u001b[0;34m\u001b[0m\u001b[0;34m\u001b[0m\u001b[0m\n",
      "\u001b[0;32m~/opt/anaconda3/lib/python3.8/site-packages/rebound/simulation.py\u001b[0m in \u001b[0;36mintegrate\u001b[0;34m(self, tmax, exact_finish_time)\u001b[0m\n\u001b[1;32m   1760\u001b[0m             \u001b[0;32mraise\u001b[0m \u001b[0mEscape\u001b[0m\u001b[0;34m(\u001b[0m\u001b[0;34m\"User caused exit. Simulation did not finish.\"\u001b[0m\u001b[0;34m)\u001b[0m \u001b[0;31m# should not occur in python\u001b[0m\u001b[0;34m\u001b[0m\u001b[0;34m\u001b[0m\u001b[0m\n\u001b[1;32m   1761\u001b[0m         \u001b[0;32mif\u001b[0m \u001b[0mret_value\u001b[0m \u001b[0;34m==\u001b[0m \u001b[0;36m6\u001b[0m\u001b[0;34m:\u001b[0m\u001b[0;34m\u001b[0m\u001b[0;34m\u001b[0m\u001b[0m\n\u001b[0;32m-> 1762\u001b[0;31m             \u001b[0;32mraise\u001b[0m \u001b[0mKeyboardInterrupt\u001b[0m\u001b[0;34m\u001b[0m\u001b[0;34m\u001b[0m\u001b[0m\n\u001b[0m\u001b[1;32m   1763\u001b[0m         \u001b[0;32mif\u001b[0m \u001b[0mret_value\u001b[0m \u001b[0;34m==\u001b[0m \u001b[0;36m7\u001b[0m\u001b[0;34m:\u001b[0m\u001b[0;34m\u001b[0m\u001b[0;34m\u001b[0m\u001b[0m\n\u001b[1;32m   1764\u001b[0m             \u001b[0;32mraise\u001b[0m \u001b[0mCollision\u001b[0m\u001b[0;34m(\u001b[0m\u001b[0;34m\"Two particles collided (d < r1+r2)\"\u001b[0m\u001b[0;34m)\u001b[0m\u001b[0;34m\u001b[0m\u001b[0;34m\u001b[0m\u001b[0m\n",
      "\u001b[0;31mKeyboardInterrupt\u001b[0m: "
     ]
    }
   ],
   "source": [
    "import rebound\n",
    "import numpy as np\n",
    "import matplotlib.pyplot as plt\n",
    "import time\n",
    "\n",
    "# Global Constants\n",
    "G = 6.67e-11 # G in SI units ****\n",
    "M_SUN = 1.9891e30 # mass of sun in kg ****\n",
    "AU_TO_M = 1.496e+11 # meters in one AU\n",
    "YR_TO_SEC = 365.25*24.*3600. # seconds in a year\n",
    "\n",
    "# Check accuracy of all the following constants\n",
    "mSat = 0.0002857 # mass of saturn in solar masses\n",
    "aSat = 9.5549 # semi-major axis of Saturn's orbit in AU\n",
    "eSat = 0.0565 # eccentricity of Saturn\n",
    "mJup = (1.898e+27)/M_SUN\n",
    "aJup = (778.570e+9)/AU_TO_M\n",
    "eJup = 0.0489\n",
    "mTitan = 0.0000000676319759 # mass of titan in solar masses\n",
    "eTitan = 0.001 # eccentricity of Titan's orbit ***** Modify as needed *****\n",
    "aTitan = 0.00038926024*8.2\n",
    "\n",
    "sim = rebound.Simulation()\n",
    "sim.units = ('AU', 'yr', 'MSun')\n",
    "sim.integrator = \"ias15\"\n",
    "\n",
    "sim.add(m=1., hash='Sun')\n",
    "sim.add(m=mJup, a=aJup, e=eJup, hash='Jupiter')\n",
    "sim.add(m=mSat, a=aSat, e=eSat, hash='Saturn')\n",
    "sim.add(rebound.Particle(sim, primary=sim.particles['Saturn'], m=mTitan, a=aTitan, e=eTitan, hash='Titan'))\n",
    "\n",
    "\"\"\"\n",
    "sim.add(m=mSat, hash='Saturn')\n",
    "sim.add(m=1., a=aSat, e=eSat, hash='Sun')\n",
    "sim.add(rebound.Particle(sim, primary=sim.particles['Sun'], m=mJup, a=aJup, e=eJup, hash=\"Jupiter\"))\n",
    "\"\"\"\n",
    "\n",
    "numSamples = 2\n",
    "eS_array = [0] * numSamples\n",
    "eJ_array = [0] * numSamples\n",
    "eT_array = [0] * numSamples\n",
    "t_array = [0] * numSamples\n",
    "for i in range(numSamples):\n",
    "    sim.integrate(1.*i)\n",
    "    sim.move_to_com()\n",
    "    eS_array[i] = sim.particles['Saturn'].calculate_orbit(primary=sim.particles['Sun']).e\n",
    "    eJ_array[i] = sim.particles['Jupiter'].calculate_orbit(primary=sim.particles['Sun']).e\n",
    "    eT_array[i] = sim.particles['Titan'].calculate_orbit(primary=sim.particles['Saturn']).e\n",
    "    t_array[i] = sim.t\n",
    "\n",
    "fig, axs = plt.subplots(3)\n",
    "\n",
    "fig.set_size_inches(15, 30)\n",
    "\n",
    "axs[0].plot(t_array,eS_array)\n",
    "axs[0].set_xlabel('Time (yrs)')\n",
    "axs[0].set_ylabel(\"Saturn's eccentricity\")\n",
    "\n",
    "axs[1].plot(t_array,eJ_array)\n",
    "axs[1].set_xlabel(\"Time (yrs)\")\n",
    "axs[1].set_ylabel(\"Jupiter's eccentricity\")\n",
    "\n",
    "axs[2].plot(t_array,eT_array)\n",
    "axs[2].set_xlabel(\"Time (yrs)\")\n",
    "axs[2].set_ylabel(\"Titan's eccentricity\")"
   ]
  },
  {
   "cell_type": "code",
   "execution_count": null,
   "id": "df665763",
   "metadata": {},
   "outputs": [],
   "source": []
  }
 ],
 "metadata": {
  "kernelspec": {
   "display_name": "Python 3",
   "language": "python",
   "name": "python3"
  },
  "language_info": {
   "codemirror_mode": {
    "name": "ipython",
    "version": 3
   },
   "file_extension": ".py",
   "mimetype": "text/x-python",
   "name": "python",
   "nbconvert_exporter": "python",
   "pygments_lexer": "ipython3",
   "version": "3.8.8"
  }
 },
 "nbformat": 4,
 "nbformat_minor": 5
}
