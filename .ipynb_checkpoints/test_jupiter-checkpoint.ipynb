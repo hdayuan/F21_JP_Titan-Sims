{
 "cells": [
  {
   "cell_type": "code",
   "execution_count": 12,
   "id": "8b8be2a0",
   "metadata": {},
   "outputs": [
    {
     "ename": "ValueError",
     "evalue": "Orbital elements for particle[0] not implemented unless primary is provided",
     "output_type": "error",
     "traceback": [
      "\u001b[0;31m---------------------------------------------------------------------------\u001b[0m",
      "\u001b[0;31mValueError\u001b[0m                                Traceback (most recent call last)",
      "\u001b[0;32m<ipython-input-12-c0a8be735a5f>\u001b[0m in \u001b[0;36m<module>\u001b[0;34m\u001b[0m\n\u001b[1;32m     41\u001b[0m     \u001b[0msim\u001b[0m\u001b[0;34m.\u001b[0m\u001b[0mintegrate\u001b[0m\u001b[0;34m(\u001b[0m\u001b[0;36m100.\u001b[0m\u001b[0;34m*\u001b[0m\u001b[0mi\u001b[0m\u001b[0;34m)\u001b[0m\u001b[0;34m\u001b[0m\u001b[0;34m\u001b[0m\u001b[0m\n\u001b[1;32m     42\u001b[0m     \u001b[0msim\u001b[0m\u001b[0;34m.\u001b[0m\u001b[0mmove_to_com\u001b[0m\u001b[0;34m(\u001b[0m\u001b[0;34m)\u001b[0m\u001b[0;34m\u001b[0m\u001b[0;34m\u001b[0m\u001b[0m\n\u001b[0;32m---> 43\u001b[0;31m     \u001b[0meS_array\u001b[0m\u001b[0;34m[\u001b[0m\u001b[0mi\u001b[0m\u001b[0;34m]\u001b[0m \u001b[0;34m=\u001b[0m \u001b[0msim\u001b[0m\u001b[0;34m.\u001b[0m\u001b[0mparticles\u001b[0m\u001b[0;34m[\u001b[0m\u001b[0;34m\"Saturn\"\u001b[0m\u001b[0;34m]\u001b[0m\u001b[0;34m.\u001b[0m\u001b[0me\u001b[0m\u001b[0;34m\u001b[0m\u001b[0;34m\u001b[0m\u001b[0m\n\u001b[0m\u001b[1;32m     44\u001b[0m     \u001b[0meJ_array\u001b[0m\u001b[0;34m[\u001b[0m\u001b[0mi\u001b[0m\u001b[0;34m]\u001b[0m \u001b[0;34m=\u001b[0m \u001b[0msim\u001b[0m\u001b[0;34m.\u001b[0m\u001b[0mparticles\u001b[0m\u001b[0;34m[\u001b[0m\u001b[0;34m\"Jupiter\"\u001b[0m\u001b[0;34m]\u001b[0m\u001b[0;34m.\u001b[0m\u001b[0me\u001b[0m\u001b[0;34m\u001b[0m\u001b[0;34m\u001b[0m\u001b[0m\n\u001b[1;32m     45\u001b[0m     \u001b[0mt_array\u001b[0m\u001b[0;34m[\u001b[0m\u001b[0mi\u001b[0m\u001b[0;34m]\u001b[0m \u001b[0;34m=\u001b[0m \u001b[0msim\u001b[0m\u001b[0;34m.\u001b[0m\u001b[0mt\u001b[0m\u001b[0;34m\u001b[0m\u001b[0;34m\u001b[0m\u001b[0m\n",
      "\u001b[0;32m~/opt/anaconda3/lib/python3.8/site-packages/rebound/particle.py\u001b[0m in \u001b[0;36me\u001b[0;34m(self)\u001b[0m\n\u001b[1;32m    716\u001b[0m     \u001b[0;34m@\u001b[0m\u001b[0mproperty\u001b[0m\u001b[0;34m\u001b[0m\u001b[0;34m\u001b[0m\u001b[0m\n\u001b[1;32m    717\u001b[0m     \u001b[0;32mdef\u001b[0m \u001b[0me\u001b[0m\u001b[0;34m(\u001b[0m\u001b[0mself\u001b[0m\u001b[0;34m)\u001b[0m\u001b[0;34m:\u001b[0m\u001b[0;34m\u001b[0m\u001b[0;34m\u001b[0m\u001b[0m\n\u001b[0;32m--> 718\u001b[0;31m         \u001b[0;32mreturn\u001b[0m \u001b[0mself\u001b[0m\u001b[0;34m.\u001b[0m\u001b[0mcalculate_orbit\u001b[0m\u001b[0;34m(\u001b[0m\u001b[0;34m)\u001b[0m\u001b[0;34m.\u001b[0m\u001b[0me\u001b[0m\u001b[0;34m\u001b[0m\u001b[0;34m\u001b[0m\u001b[0m\n\u001b[0m\u001b[1;32m    719\u001b[0m     \u001b[0;34m@\u001b[0m\u001b[0me\u001b[0m\u001b[0;34m.\u001b[0m\u001b[0msetter\u001b[0m\u001b[0;34m\u001b[0m\u001b[0;34m\u001b[0m\u001b[0m\n\u001b[1;32m    720\u001b[0m     \u001b[0;32mdef\u001b[0m \u001b[0me\u001b[0m\u001b[0;34m(\u001b[0m\u001b[0mself\u001b[0m\u001b[0;34m,\u001b[0m\u001b[0mvalue\u001b[0m\u001b[0;34m)\u001b[0m\u001b[0;34m:\u001b[0m\u001b[0;34m\u001b[0m\u001b[0;34m\u001b[0m\u001b[0m\n",
      "\u001b[0;32m~/opt/anaconda3/lib/python3.8/site-packages/rebound/particle.py\u001b[0m in \u001b[0;36mcalculate_orbit\u001b[0;34m(self, primary, G)\u001b[0m\n\u001b[1;32m    438\u001b[0m             \u001b[0mindex\u001b[0m \u001b[0;34m=\u001b[0m \u001b[0mclibrebound\u001b[0m\u001b[0;34m.\u001b[0m\u001b[0mreb_get_particle_index\u001b[0m\u001b[0;34m(\u001b[0m\u001b[0mbyref\u001b[0m\u001b[0;34m(\u001b[0m\u001b[0mself\u001b[0m\u001b[0;34m)\u001b[0m\u001b[0;34m)\u001b[0m \u001b[0;31m# first check this isn't particles[0]\u001b[0m\u001b[0;34m\u001b[0m\u001b[0;34m\u001b[0m\u001b[0m\n\u001b[1;32m    439\u001b[0m             \u001b[0;32mif\u001b[0m \u001b[0mindex\u001b[0m \u001b[0;34m==\u001b[0m \u001b[0;36m0\u001b[0m \u001b[0;32mand\u001b[0m \u001b[0mprimary\u001b[0m \u001b[0;32mis\u001b[0m \u001b[0;32mNone\u001b[0m\u001b[0;34m:\u001b[0m\u001b[0;34m\u001b[0m\u001b[0;34m\u001b[0m\u001b[0m\n\u001b[0;32m--> 440\u001b[0;31m                 \u001b[0;32mraise\u001b[0m \u001b[0mValueError\u001b[0m\u001b[0;34m(\u001b[0m\u001b[0;34m\"Orbital elements for particle[0] not implemented unless primary is provided\"\u001b[0m\u001b[0;34m)\u001b[0m\u001b[0;34m\u001b[0m\u001b[0;34m\u001b[0m\u001b[0m\n\u001b[0m\u001b[1;32m    441\u001b[0m \u001b[0;34m\u001b[0m\u001b[0m\n\u001b[1;32m    442\u001b[0m             \u001b[0;32mif\u001b[0m \u001b[0mprimary\u001b[0m \u001b[0;32mis\u001b[0m \u001b[0;32mNone\u001b[0m\u001b[0;34m:\u001b[0m    \u001b[0;31m# Use default, i.e., Jacobi coordinates\u001b[0m\u001b[0;34m\u001b[0m\u001b[0;34m\u001b[0m\u001b[0m\n",
      "\u001b[0;31mValueError\u001b[0m: Orbital elements for particle[0] not implemented unless primary is provided"
     ]
    }
   ],
   "source": [
    "import rebound\n",
    "import numpy as np\n",
    "import matplotlib.pyplot as plt\n",
    "import time\n",
    "\n",
    "# Global Constants\n",
    "G = 6.67e-11 # G in SI units ****\n",
    "M_SUN = 1.9891e30 # mass of sun in kg ****\n",
    "AU_TO_M = 1.496e+11 # meters in one AU\n",
    "YR_TO_SEC = 365.25*24.*3600. # seconds in a year\n",
    "\n",
    "# Check accuracy of all the following constants\n",
    "mSat = 0.0002857 # mass of saturn in solar masses\n",
    "aSat = 9.5549 # semi-major axis of Saturn's orbit in AU\n",
    "eSat = 0.0565 # eccentricity of Saturn\n",
    "mJup = (1.898e+27)/M_SUN\n",
    "aJup = (778.570e+9)/AU_TO_M\n",
    "eJup = 0.0489\n",
    "\n",
    "sim = rebound.Simulation()\n",
    "sim.units = ('AU', 'yr', 'MSun')\n",
    "sim.integrator = \"ias15\"\n",
    "\n",
    "\"\"\"sim.add(m=1.)\n",
    "sim.add(m=mSat, a=aSat, e=eSat, hash='Saturn')\n",
    "sim.add(m=mJup, a=aJup, e=eJup, hash='Jupiter')\n",
    "\n",
    "\"\"\"\n",
    "saturn = rebound.Particle(m=mSat, hash=\"Saturn\")\n",
    "sim.add(saturn)\n",
    "sun = rebound.Particle(sim, primary=saturn, m=1., a=aSat, e=eSat, hash=\"Sun\")\n",
    "sim.add(sun)\n",
    "jupiter = rebound.Particle(sim, primary=sun, m=mJup, a=aJup, e=eJup, hash=\"Jupiter\")\n",
    "sim.add(jupiter)\n",
    "\n",
    "numSamples = 1000\n",
    "eS_array = [0] * numSamples\n",
    "eJ_array = [0] * numSamples\n",
    "t_array = [0] * numSamples\n",
    "for i in range(numSamples):\n",
    "    sim.integrate(100.*i)\n",
    "    sim.move_to_com()\n",
    "    eS_array[i] = sim.particles[\"Saturn\"].calculate_orbit(primary=sun).e\n",
    "    eJ_array[i] = sim.particles[\"Jupiter\"].e\n",
    "    t_array[i] = sim.t\n",
    "\n",
    "fig, axs = plt.subplots(2)\n",
    "\n",
    "fig.set_size_inches(15, 20)\n",
    "\n",
    "axs[0].plot(t_array,eS_array)\n",
    "axs[0].set_xlabel('Time (yrs)')\n",
    "axs[0].set_ylabel(\"Saturn's eccentricity\")\n",
    "\n",
    "axs[1].plot(t_array,eJ_array)\n",
    "axs[1].set_xlabel(\"Time (yrs)\")\n",
    "axs[1].set_ylabel(\"Jupiter's eccentricity\")\n",
    "    "
   ]
  },
  {
   "cell_type": "code",
   "execution_count": null,
   "id": "df665763",
   "metadata": {},
   "outputs": [],
   "source": []
  }
 ],
 "metadata": {
  "kernelspec": {
   "display_name": "Python 3",
   "language": "python",
   "name": "python3"
  },
  "language_info": {
   "codemirror_mode": {
    "name": "ipython",
    "version": 3
   },
   "file_extension": ".py",
   "mimetype": "text/x-python",
   "name": "python",
   "nbconvert_exporter": "python",
   "pygments_lexer": "ipython3",
   "version": "3.8.8"
  }
 },
 "nbformat": 4,
 "nbformat_minor": 5
}
