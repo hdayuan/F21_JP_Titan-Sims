{
 "cells": [
  {
   "cell_type": "code",
   "execution_count": 4,
   "id": "fc6298ba",
   "metadata": {},
   "outputs": [
    {
     "name": "stdout",
     "output_type": "stream",
     "text": [
      "0.00027113173330287413 Earth radii\n"
     ]
    }
   ],
   "source": [
    "import numpy as np\n",
    "import matplotlib.pyplot as plt\n",
    "\n",
    "G = 6.67e-11 # G in SI units ****\n",
    "mSun = 1.9891e30 # mass of sun in kg ****\n",
    "AU_TO_M = 1.496e+11 # meters in one AU\n",
    "\n",
    "# Check accuracy of all the following constants\n",
    "mEarth = 5.9724 / mSun # mass of Earth in solar masses\n",
    "aEarth = 1. # semi-major axis of Earth's orbit in AU\n",
    "eEarth = 0.01671 # eccentricity of Earth\n",
    "rEarth = 0.00038926024 # radius of Earth in AU\n",
    "j2Earth = 1082.6e-6 # J2 of Earth\n",
    "curr_aMoon = 0.008167696467 # modern-day semi-major axis of moon in AU\n",
    "mMoon = 0.07346e24 / mSun # mass of moon in solar masses\n",
    "eMoon = 0.001 # eccentricity of moon's orbit ***** Modify as needed *****\n",
    "iMoon = (18.28 + 28.58) * np.pi / 360 # inclination of moon's orbit in radians\n",
    "\n",
    "ini_aMoon = 4 * rEarth  # ~~~~ starting semi-major axis of moon\n",
    "\n",
    "# Calculate the expected semi-major axis of Titan at which evection resonance should occur given i = e = 0\n",
    "\n",
    "exp_aRes = np.power(((9./8.)*j2Earth*j2Earth*mEarth*(aEarth/rEarth)**3.) * (2. - ((5./2.)*(np.sin(iMoon)**2))), (1/7)) # in units of Earth radii\n",
    "\n",
    "print(str(exp_aRes) + \" Earth radii\")"
   ]
  },
  {
   "cell_type": "code",
   "execution_count": null,
   "id": "3d9a2d48",
   "metadata": {},
   "outputs": [],
   "source": []
  },
  {
   "cell_type": "code",
   "execution_count": null,
   "id": "47b18e5e",
   "metadata": {},
   "outputs": [],
   "source": []
  }
 ],
 "metadata": {
  "kernelspec": {
   "display_name": "Python 3",
   "language": "python",
   "name": "python3"
  },
  "language_info": {
   "codemirror_mode": {
    "name": "ipython",
    "version": 3
   },
   "file_extension": ".py",
   "mimetype": "text/x-python",
   "name": "python",
   "nbconvert_exporter": "python",
   "pygments_lexer": "ipython3",
   "version": "3.8.8"
  }
 },
 "nbformat": 4,
 "nbformat_minor": 5
}
